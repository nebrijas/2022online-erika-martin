{
 "cells": [
  {
   "cell_type": "markdown",
   "id": "e576cb7c",
   "metadata": {},
   "source": [
    "# Ejercicio de programación literaria con Python\n",
    "Esta tercera actividad dirigida consiste en realizar un ejercicio de programación literaria haciendo uso de un código de programación con Python ya existente, en el que llevamos a cabo web scraping. El archivo de documento trabajado en el cuaderno Jupyter también [está colgado dentro de la carpeta \"docs\"](docs/ad3)."
   ]
  },
  {
   "cell_type": "markdown",
   "id": "a8396500",
   "metadata": {},
   "source": [
    "## Librerías\n",
    "Para comenzar, tal y como hemos visto en clases, tendremos que asegurarnos de que todas las librerias necesarias para comenzarla tarea de web scraping estén correctamente instaladas. Para ello, vamos a intentar llamarlas utilizando una serie de variables."
   ]
  },
  {
   "cell_type": "code",
   "execution_count": 1,
   "id": "435bd5f5",
   "metadata": {},
   "outputs": [
    {
     "ename": "ModuleNotFoundError",
     "evalue": "No module named 'termcolor'",
     "output_type": "error",
     "traceback": [
      "\u001b[1;31m---------------------------------------------------------------------------\u001b[0m",
      "\u001b[1;31mModuleNotFoundError\u001b[0m                       Traceback (most recent call last)",
      "\u001b[1;32m~\\AppData\\Local\\Temp\\ipykernel_18868\\1800187364.py\u001b[0m in \u001b[0;36m<module>\u001b[1;34m\u001b[0m\n\u001b[0;32m      6\u001b[0m \u001b[1;32mimport\u001b[0m \u001b[0mos\u001b[0m\u001b[1;33m\u001b[0m\u001b[1;33m\u001b[0m\u001b[0m\n\u001b[0;32m      7\u001b[0m \u001b[1;32mimport\u001b[0m \u001b[0mpandas\u001b[0m \u001b[1;32mas\u001b[0m \u001b[0mpd\u001b[0m\u001b[1;33m\u001b[0m\u001b[1;33m\u001b[0m\u001b[0m\n\u001b[1;32m----> 8\u001b[1;33m \u001b[1;32mfrom\u001b[0m \u001b[0mtermcolor\u001b[0m \u001b[1;32mimport\u001b[0m \u001b[0mcolored\u001b[0m\u001b[1;33m\u001b[0m\u001b[1;33m\u001b[0m\u001b[0m\n\u001b[0m",
      "\u001b[1;31mModuleNotFoundError\u001b[0m: No module named 'termcolor'"
     ]
    }
   ],
   "source": [
    "import requests\n",
    "import time\n",
    "import csv\n",
    "import re\n",
    "from bs4 import BeautifulSoup\n",
    "import os\n",
    "import pandas as pd\n",
    "from termcolor import colored"
   ]
  },
  {
   "cell_type": "markdown",
   "id": "c71c958e",
   "metadata": {},
   "source": [
    "En caso de percibir errores, es probable que estemos ante un problema que denota que las bibliotecas no han sido instaladas. Si no se cono la naturaleza de cada librería, y por lo tanto no se sabe cómo instalar, tendríamos que acudir al navegador web a buscarlo."
   ]
  },
  {
   "cell_type": "markdown",
   "id": "362f6c08",
   "metadata": {},
   "source": [
    "### Requests\n",
    "Según la página web especializada en Python [J2logo](j2logo.com), esta es una librería que facilita el trabajo con peticiones HTTP. \n",
    "En caso de querer instalar esta librería, habrá que utilizar la siguiente función valiendose del gestor de paquetes pip:"
   ]
  },
  {
   "cell_type": "code",
   "execution_count": 2,
   "id": "1d141552",
   "metadata": {},
   "outputs": [
    {
     "name": "stdout",
     "output_type": "stream",
     "text": [
      "Requirement already satisfied: requests in c:\\users\\erika\\anaconda3\\lib\\site-packages (2.28.1)\n",
      "Requirement already satisfied: idna<4,>=2.5 in c:\\users\\erika\\anaconda3\\lib\\site-packages (from requests) (3.3)\n",
      "Requirement already satisfied: certifi>=2017.4.17 in c:\\users\\erika\\anaconda3\\lib\\site-packages (from requests) (2022.9.14)\n",
      "Requirement already satisfied: charset-normalizer<3,>=2 in c:\\users\\erika\\anaconda3\\lib\\site-packages (from requests) (2.0.4)\n",
      "Requirement already satisfied: urllib3<1.27,>=1.21.1 in c:\\users\\erika\\anaconda3\\lib\\site-packages (from requests) (1.26.11)\n"
     ]
    }
   ],
   "source": [
    "!pip install requests"
   ]
  },
  {
   "cell_type": "markdown",
   "id": "08d7cd32",
   "metadata": {},
   "source": [
    "En caso de querer hacer una petición, habrá que invocar la función get(), tal y como vemos en el bloque de código del que hablabamos al comienzo del ejercicio."
   ]
  },
  {
   "cell_type": "markdown",
   "id": "b83034c3",
   "metadata": {},
   "source": [
    "### Time\n",
    "La [página web de Python](https://docs.python.org/es/3/library/time.html) señala que se trata de un \"módulo (que) proporciona varias funciones relacionadas con el tiempo\". Esta permitiría acceder a conversiones horarias. \n",
    "Al formar parte de la librería estandar del lenguaje de programación, no es necesario instalarla. "
   ]
  },
  {
   "cell_type": "markdown",
   "id": "d14f17d0",
   "metadata": {},
   "source": [
    "### CVS\n",
    "Según la [página web de Python](https://docs.python.org/es/3/library/cvs.html), este es \"el formato más común de importación y exportación de hojas de cálculo y bases de datos\". Este módulo del lenguaje de programación \"implementa clases para leer y escribir datos tabulares en formato CSV\".\n",
    "Al formar parte de la librería estandar del lenguaje de programación, no es necesario instalarla."
   ]
  },
  {
   "cell_type": "markdown",
   "id": "afc13c8f",
   "metadata": {},
   "source": [
    "### Re\n",
    "La [página web de Python](https://docs.python.org/es/3/library/re.html) señala que este módulo \"proporciona operaciones de coincidencia de expresiones regulares similares a las encontradas en Perl\". Todas ellas utilizarán el carácter de barra inversa para indicar formas especiales o permitir el uso de carácteres especiales.\n",
    "Al formar parte de la librería estandar del lenguaje de programación, no es necesario instalarla. "
   ]
  },
  {
   "cell_type": "markdown",
   "id": "0729f80d",
   "metadata": {},
   "source": [
    "### BS4\n",
    "Tal y como indica la página web especializada en Python [J2logo](https://j2logo.com/python/web-scraping-con-python-guia-inicio-beautifulsoup/), la librería BS4 también es conocida como Beautiful Soup. Es muy utilizada para realizar web scraping, técnica que se puede utilizar en proyectos de Big Data o Machine Learning.\n",
    "En caso de querer instalar esta librería, habrá que utilizar la siguiente función valiendose del gestor de paquetes pip:"
   ]
  },
  {
   "cell_type": "code",
   "execution_count": 3,
   "id": "196632b1",
   "metadata": {},
   "outputs": [
    {
     "name": "stdout",
     "output_type": "stream",
     "text": [
      "Requirement already satisfied: beautifulsoup4 in c:\\users\\erika\\anaconda3\\lib\\site-packages (4.11.1)\n",
      "Requirement already satisfied: soupsieve>1.2 in c:\\users\\erika\\anaconda3\\lib\\site-packages (from beautifulsoup4) (2.3.1)\n"
     ]
    }
   ],
   "source": [
    "!pip install beautifulsoup4"
   ]
  },
  {
   "cell_type": "markdown",
   "id": "42762fdc",
   "metadata": {},
   "source": [
    "Además, también se podría instalar a la vez el parser \"lxml\" utilizando a su vez el mismo gestor de paquetes. "
   ]
  },
  {
   "cell_type": "code",
   "execution_count": 4,
   "id": "99ac256b",
   "metadata": {},
   "outputs": [
    {
     "name": "stdout",
     "output_type": "stream",
     "text": [
      "Requirement already satisfied: lxml in c:\\users\\erika\\anaconda3\\lib\\site-packages (4.9.1)\n"
     ]
    }
   ],
   "source": [
    "!pip install lxml"
   ]
  },
  {
   "cell_type": "markdown",
   "id": "48f8be8a",
   "metadata": {},
   "source": [
    "### Pandas\n",
    "La [página web de Hubspot](https://blog.hubspot.es/website/que-es-pandas-python) señala que esta es una de las librerías más utilizadas para el manejo, anális y procesamiento de datos. Se basa en las estructuras de datos que mantiene la librería NumPy, y dispone de tres estructuras distintas: Series, DataFrame y Panel.\n",
    "En caso de querer instalar esta librería, habrá que utilizar la siguiente función valiendose del gestor de paquetes pip:"
   ]
  },
  {
   "cell_type": "code",
   "execution_count": 5,
   "id": "8061aa77",
   "metadata": {},
   "outputs": [
    {
     "name": "stdout",
     "output_type": "stream",
     "text": [
      "Requirement already satisfied: pandas in c:\\users\\erika\\anaconda3\\lib\\site-packages (1.4.4)\n",
      "Requirement already satisfied: pytz>=2020.1 in c:\\users\\erika\\anaconda3\\lib\\site-packages (from pandas) (2022.1)\n",
      "Requirement already satisfied: numpy>=1.18.5 in c:\\users\\erika\\anaconda3\\lib\\site-packages (from pandas) (1.21.5)\n",
      "Requirement already satisfied: python-dateutil>=2.8.1 in c:\\users\\erika\\anaconda3\\lib\\site-packages (from pandas) (2.8.2)\n",
      "Requirement already satisfied: six>=1.5 in c:\\users\\erika\\anaconda3\\lib\\site-packages (from python-dateutil>=2.8.1->pandas) (1.16.0)\n"
     ]
    }
   ],
   "source": [
    "!pip install pandas"
   ]
  },
  {
   "cell_type": "markdown",
   "id": "e73056d2",
   "metadata": {},
   "source": [
    "### Termcolor\n",
    "Según indica [la página web Replit](https://replit.com/talk/learn/How-to-Use-Termcolor-In-Python/24684), el módulo termcolor permite imprimir texto con colores. \n",
    "En caso de querer instalar esta librería, habrá que utilizar la siguiente función valiendose del gestor de paquetes pip:"
   ]
  },
  {
   "cell_type": "code",
   "execution_count": 6,
   "id": "7867dadf",
   "metadata": {},
   "outputs": [
    {
     "name": "stdout",
     "output_type": "stream",
     "text": [
      "Collecting termcolor\n",
      "  Downloading termcolor-2.1.1-py3-none-any.whl (6.2 kB)\n",
      "Installing collected packages: termcolor\n",
      "Successfully installed termcolor-2.1.1\n"
     ]
    }
   ],
   "source": [
    "!pip install --upgrade termcolor"
   ]
  },
  {
   "cell_type": "markdown",
   "id": "b9131d69",
   "metadata": {},
   "source": [
    "## Comienzo del ejercicio\n",
    "Como primer paso, volvemos a importar las librerías necesarias, ahora que tenemos todas las necesarias. Para ello utilizaremos la siguiente función, tal y como hicimos al comienzo del documento:"
   ]
  },
  {
   "cell_type": "code",
   "execution_count": 7,
   "id": "7042ea42",
   "metadata": {},
   "outputs": [],
   "source": [
    "import requests\n",
    "import time\n",
    "import csv\n",
    "import re\n",
    "from bs4 import BeautifulSoup\n",
    "import os\n",
    "import pandas as pd\n",
    "from termcolor import colored"
   ]
  },
  {
   "cell_type": "markdown",
   "id": "e74555b3",
   "metadata": {},
   "source": [
    "Posteriormente llamamos a la página de resultados con la siguiente variable."
   ]
  },
  {
   "cell_type": "code",
   "execution_count": 8,
   "id": "53d0a3bb",
   "metadata": {},
   "outputs": [],
   "source": [
    "resultados = []"
   ]
  },
  {
   "cell_type": "markdown",
   "id": "e8425a9c",
   "metadata": {},
   "source": [
    "Para poder organizar correctamente los datos, utilizaremos la función \"type\"."
   ]
  },
  {
   "cell_type": "code",
   "execution_count": 10,
   "id": "5adb2cae",
   "metadata": {},
   "outputs": [
    {
     "data": {
      "text/plain": [
       "list"
      ]
     },
     "execution_count": 10,
     "metadata": {},
     "output_type": "execute_result"
    }
   ],
   "source": [
    "type(resultados)"
   ]
  },
  {
   "cell_type": "markdown",
   "id": "d2e5b958",
   "metadata": {},
   "source": [
    "## Acceder a los datos de El País\n",
    "Es en este momento cuando realizamos la primera petición de obtención de datos a través de la variable \"req\". Tal y como se muestra en la siguiente función, esto marcaría el uso de la librería requests."
   ]
  },
  {
   "cell_type": "code",
   "execution_count": 12,
   "id": "68043321",
   "metadata": {},
   "outputs": [],
   "source": [
    "req = requests.get(\"https://resultados.elpais.com\")"
   ]
  },
  {
   "cell_type": "markdown",
   "id": "10875aba",
   "metadata": {},
   "source": [
    "A continuación haremos uso de un condicional, con el que conoceremos si el valor es igual a 200, y lanzará un error en caso de que sea otro."
   ]
  },
  {
   "cell_type": "code",
   "execution_count": 13,
   "id": "a9f1bd6a",
   "metadata": {},
   "outputs": [],
   "source": [
    "if (req.status_code != 200):\n",
    " raise Exception(\"No se puede hacer Web Scraping en\"+ URL)\n",
    "soup = BeautifulSoup(req.text, 'html.parser')"
   ]
  },
  {
   "cell_type": "markdown",
   "id": "6493f7ef",
   "metadata": {},
   "source": [
    "Tras realizar esta acción, comenzará a trabajar la librería BS4 o Beautiful Soup. Este comando es el encargado de comenzar con el web scraping. Comenzamos buscando todas las etiquetas posibles con la función \"tags\", lo que dará una serie de tutulares que cumplan la condición de ser \"h2\"."
   ]
  },
  {
   "cell_type": "code",
   "execution_count": 14,
   "id": "13aaeef5",
   "metadata": {},
   "outputs": [],
   "source": [
    "tags = soup.findAll(\"h2\")"
   ]
  },
  {
   "cell_type": "markdown",
   "id": "52f67ac0",
   "metadata": {},
   "source": [
    "Es entonces cuando utilizaremos \"print\" para imprimir la información que le estamos solicitando."
   ]
  },
  {
   "cell_type": "code",
   "execution_count": 15,
   "id": "ddef62dd",
   "metadata": {},
   "outputs": [
    {
     "name": "stdout",
     "output_type": "stream",
     "text": [
      "Última hora\n",
      "El calendario\n",
      "Universo Mundial\n",
      "Las predicciones\n",
      "La ‘newsletter’\n",
      "La policía interceptó en  La Moncloa un sobre con material pirotécnico dirigido a Sánchez\n",
      "La censura del Congreso a Marlaska por Melilla deja su futuro en manos de la Fiscalía\n",
      "La Eurocámara presionará para que el ministro dé explicaciones sobre la tragedia \n",
      "Superviviente de una mara hondureña: “No me enteré de que a mi hija la violaron a punta de pistola hasta que llegué a España”\n",
      "Cómo detectar una crisis de ansiedad y qué hacer\n",
      "‘As bestas’, de Rodrigo Sorogoyen, lidera la carrera a los Goya con 17 nominaciones\n",
      "Empecinamiento sobre Melilla \n",
      "Abolir la prostitución\n",
      "Bildu como ‘síntoma’ generacional\n",
      "Carta de socorro\n",
      "Las píldoras de Enzensberger\n",
      "España se ve lanzada  \n",
      "Joshua Kimmich bajo vigilancia\n",
      "Marruecos, ante el mayor desafío histórico desde el 86\n",
      "¿Qué opciones tiene cada selección de pasar a octavos?\n",
      "La pensión máxima subirá un 3% hasta 2050 y la cotización más alta lo hará un 35%\n",
      "Malestar en el Gobierno y el PSOE con Montero por acusar al PP de promover la cultura de la violación\n",
      "Todo el PP en ‘El escaño de Satanás’\n",
      "Ayuso se compromete con Vox a borrar la autodeterminación de género de las leyes en Madrid\n",
      "Las 72 horas de crisis en Ciudadanos: Villacís sufre la primera gran baja en Madrid y Almeida se frota las manos\n",
      "El desafío de envejecer con VIH: “Las personas de largo recorrido sufrimos depresión y ansiedad”\n",
      "Solo el 44% de los adolescentes con conductas suicidas ha recibido tratamiento psicológico en los últimos tres años\n",
      "Elon Musk asegura que en seis meses se implantará el primer chip en un cerebro humano con Neuralink\n",
      "El historiador Serhii Plokhy: “El destino de la guerra está claro: Rusia se debilita y Ucrania será independiente”\n",
      "Vídeo | ¿Qué hay en la cabeza de un soldado de la guerra? Estas son sus heridas mentales\n",
      "Condenada por hurto en supermercados: “Lo mejor que me podía haber pasado fue ir a prisión”\n",
      "La SER se consolida como la radio más escuchada con 4.161.000 oyentes\n",
      "Carlos Navarro, ‘El Yoyas’, en busca y captura para ingresar en prisión por maltratar a su expareja e hijos\n",
      "Cepsa invertirá 3.000 millones en el mayor proyecto de hidrógeno verde de Europa\n",
      "La empresa detrás de Conga, el robot aspirador que revolucionó los hogares españoles y que hoy factura 300 millones de euros\n",
      "El tiempo en el puente de diciembre: primero frío y, después, lluvias generalizadas\n",
      "Shakira y Piqué sellan su acuerdo de separación en Barcelona ante el juez\n",
      "Estas son las mejores series de diciembre\n",
      "Aló Comidista: “Si dejas la piña boca abajo, ¿se pone más dulce?”\n",
      "Convierta su comunidad en ‘Aquí sí hay quien viva’ (gracias al cubo de basura)\n",
      "Kevin de Bruyne, entre la frustración y el miedo ante el día decisivo de Bélgica contra Croacia\n",
      "México se queda a un gol del pase \n",
      "Argentina se gana los octavos \n",
      "Olga Viza: “Llevé la copa del Mundial de España 82 de copiloto en mi coche con la L en el cristal”\n",
      "Los vídeos de los goles y el resumen de la jornada 11\n",
      "Catarí que te vi: cómo llenar el depósito de gasolina por 22 euros en Qatar\n",
      "Ramón Besa, periodista de EL PAÍS: “Nadie juega como España”\n",
      "Busquets: “Me sorprendió el talento de Gavi y Pedri cuando llegaron al equipo”\n",
      "La historia de una niña que soñó con ser pianista\n",
      "Pon nombre a lo que te pasa para sentirte mejor\n",
      "Volver a empezar\n",
      "Temporeros de Jaén duermen a la intemperie aunque los albergues están semivacíos\n",
      "‘Mujeres de armas tomar’: la historia de la víctima, que desesperada por justicia, se vengó de sus violadores\n",
      "Encontrados 170 escritos inéditos del poeta Miguel Hernández\n",
      "El euríbor cierra noviembre en su mayor nivel desde 2008: la cuota de los que revisen ahora su pago crecerá un 44%\n",
      "Estos picos han enamorado al chef José Andrés y están hasta en las mesas de Corea del Sur\n",
      "La primera simulación cuántica de un agujero de gusano abre una nueva puerta para entender el universo\n",
      "Del referéndum de Cataluña a #Cuéntalo: los archiveros guardan tuits que han hecho historia\n",
      "Ninguneo administrativo al ciudadano: recibos del IBI que no llegan, llamadas sin respuesta y fallos técnicos\n",
      "Hungría evita la confrontación con Bruselas y confía en desbloquear los fondos europeos en 2023\n",
      "La ONU advierte de que una de cada 23 personas requerirá ayuda humanitaria en 2023\n",
      "‘Podcast’ | China pide libertad, no democracia\n",
      "Videonálisis | Así pueden afectar las protestas al Gobierno chino\n",
      "El número de españoles en cárceles extranjeras repunta un 15% tras el fin de la pandemia\n",
      "¿Qué beneficios aportan los alimentos húmedos a las mascotas?\n",
      "Juana Dolores, la nueva ‘enfant terrible’ de la cultura catalana: “Hay mucho silencio y autocensura en la literatura”\n",
      "La respuesta a la guerra en Ucrania también es literaria\n",
      "Felix Klieser: un virtuoso de la trompa (sin brazos)\n",
      "Muere Christine McVie, cantante y teclista de la legendaria banda Fleetwood Mac\n",
      "Glashütte, el pueblo alemán convertido en capital mundial de los relojes con denominación de origen\n",
      "Al norte del Norte: por la remota Ruta de la Costa Ártica de Islandia \n",
      "Vídeo | La canción de Antonio Carmona a su padre sobre el alzhéimer: “La escuchó antes de morir”\n",
      "Restaurante El Señor Martín, el paraíso marinero también está en Madrid\n",
      "Club Welnia, el programa que nos acompaña en todo momento\n",
      "El papel de Marruecos y España en las muertes del 24-J\n",
      "Luisita, contra el Estado por la herencia de seis millones de una prima con la que ni hablaba\n",
      "Los médicos privados se sienten “humillados”: los técnicos cobran 60 euros por arreglar una lavadora y los sanitarios, 10 por consulta\n",
      "La guerra bajo cero en Ucrania: ‘congelarse’ o emigrar\n",
      "La respuesta de la primera ministra de Nueva Zelanda a una pregunta machista: “¿Os reunís por tener una edad parecida?”\n",
      "\n",
      "Irene Montero, al PP en el Congreso: “Ustedes promueven la cultura de la violación”\n",
      "‘Tu opinión es una mierda’: la campaña que alerta sobre los peligros de la polarización\n",
      "La educación financiera se convierte en la llave de la inclusión\n",
      "‘La mirada del paciente’: historias sin filtro detrás de las personas\n",
      "Hacia un 2025 más justo, más conectado y más sostenible\n",
      "Nicolás Maduro condiciona la celebración de elecciones libres al levantamiento de sanciones \n",
      "Alemania suaviza su ley de inmigración para atraer trabajadores extranjeros de fuera de la UE\n",
      "Una globalización centrada en los seres humanos\n",
      "Defensa invertirá 80 millones en su futuro Sistema de Combate en el Ciberespacio\n",
      "Xavier Trias ficha a Alsina, Calvet y Tremosa para la candidatura de Junts al Ayuntamiento de Barcelona\n",
      "Yolanda Díaz apuesta por “tender la mano” al Gobierno mexicano\n",
      "Prisa presenta el plan para redoblar su apuesta por la sostenibilidad\n",
      "‘Los desafíos al proceso de transición ecológica’, por José Donoso\n",
      "Arabia Saudí encarga otros cinco buques de guerra a Navantia \n",
      "PSOE y Unidas Podemos aplazan el debate sobre la autodeterminación de género en la ‘ley trans’\n",
      "Un plan de choque de 356 millones para intentar salvar Doñana de su creciente declive \n",
      "Cataluña afronta el invierno de la crisis energética con solo 42 contadores sociales de luz\n",
      "El retraso en resolver contratos predoctorales deja en el limbo a cientos de jóvenes: “Es la desesperación” \n",
      "El estrés académico lastra el aprendizaje de los niños de nivel socioeconómico bajo\n",
      "‘Phishing’, ‘malware’ o ‘ransomware’: el reto de formar en ciberseguridad tras la pandemia\n",
      "La prohibición del maíz transgénico abre un nuevo foco de tensión entre EE UU y México\n",
      "Un plan de choque de 356 millones para intentar salvar Doñana de su creciente declive \n",
      "Portugal, el secreto de un país sin bicicletas que se convirtió en el mayor fabricante europeo\n",
      "75 años de la muerte de G.H. Hardy, un matemático excéntrico y brillante\n",
      "Hallan en Transilvania una nueva especie de dinosaurio enano herbívoro que vivió hace 70 millones de años\n",
      "Un fármaco experimental contra el alzhéimer confirma efectos positivos, pero puede estar detrás de la muerte de dos pacientes \n",
      "Ronna, ronto, quetta y quecto, los nuevos prefijos para magnitudes extraordinarias\n",
      "La Policía de San Francisco contará con robots con capacidad de matar\n",
      "Damian Burns, director de Twitch Europa: “No me importaría que mi hija fuera ‘streamer’”\n",
      "Jugar para tu país\n",
      "‘Mi tío Ricardo y la antena de la tele’, por Rafa Cabeleira\n",
      "Pelé se mantiene estable tras ser hospitalizado de manera inesperada en São Paulo\n",
      "El Sónar 2023 anuncia a Richie Hawtin, Laurent Garnier o The Blessed Madonna entre sus primeros artistas invitados\n",
      "¿Quedan cines de barrio? ¿Toda España se hizo artista en el confinamiento? ¿Importan los premios? Los números responden\n",
      "El arte reivindica la belleza y la fragilidad del vidrio\n",
      "Borja Cobeaga: “Tardé más en sacarme el carné que en hacer esta serie”\n",
      "‘El presidente: juego de la corrupción’, los entresijos del fútbol’, por Ángel Sánchez-Harguindey\n",
      "Radiografía de ‘El hormiguero’: entretenimiento blanco de éxito… y polémicas por machismo\n",
      "Buckingham fuerza la dimisión de una asistente de la reina Camila por sus comentarios racistas\n",
      "Los príncipes de Gales emulan en su viaje a Boston la visita que la reina Isabel II hizo a la ciudad en 1976\n",
      "Spotify Wrapped, el selfi musical que monopoliza la conversación en Twitter y acaricia el ego\n",
      "La economía solidaria: un nuevo modelo financiero contra la desigualdad y la emergencia climática\n",
      "Alima tiene bronquiolitis, pero no hay oxígeno para evitar su asfixia en el hospital de Etiopía\n",
      "Muchos hombres, una sola mujer\n",
      "El misterio de Manuel Carrasco: cómo salir de una barriada de pescadores y acabar siendo un cantante que llena estadios\n",
      "El lamentable caso de Anne Hathaway o por qué se odia a algunas famosas sin justificación ninguna\n",
      "Samantha Hudson: “Me va bien económicamante, pero no soy Paula Echevarría”\n",
      "“Tobogán de piojos”, “genocida de oxígeno”... Por qué cada Mundial recuerda el poderío del español como idioma para insultar\n",
      "Alejandro Jato, el actor que será Camilo Sesto: “Da pena la imagen que los jóvenes tienen de él, con lo grande que fue”\n",
      "Una apasionante ruta por el patrimonio español en peligro de desaparecer\n",
      "Nuevos estadios, edificios de premios Pritzker y los zocos de Doha: Qatar, sede de la arquitectura mundial\n",
      "La polarización es como las drogas: engancha\n",
      "Descansar está mal visto: el arte perdido del reposo\n",
      "Madrid, la nueva Miami: así se han hecho con la capital los ricos latinoamericanos\n",
      "Si no tiene ahorros, esta es una de las pocas alternativas para comprar casa\n",
      "Roe Ethridge, el fructífero intercambio entre el arte y el comercio\n",
      "‘La última vez’, de Guillermo Martínez: un laberinto con final milagrosamente imprevisible\n",
      "Cómo será el descuento de 20 céntimos en la gasolina en 2023\n",
      "El coche que se anticipa al declive de los SUV \n",
      "Pollo asado con pomelo y dátiles\n",
      "Para qué sirve cada tipo de cebolla (y un truco para no llorar al picarla)\n",
      "Francesc Cambó i Jordi Pujol davant del mirall\n",
      "En teoria, és progressista\n",
      "Pilar Bonet dedica a los periodistas que cubren la guerra de Ucrania el premio Francisco Cerecedo de periodismo \n",
      "Taller de ‘podcast’ narrativo\n",
      "La cubertería dorada ideal para esta Navidad: elegante, de 30 piezas y en oferta\n",
      "Los mejores termostatos inteligentes último modelo con los que ahorrar en calefacción\n",
      "11 protectores autoadhesivos de paredes y esquinas del garaje para aparcar tranquilo\n",
      "Siete gorros de invierno para hombre por menos de 20 euros\n",
      " Este árbol de Navidad, que arrasa en Amazon, tiene efecto brillo y se vende en cuatro tamaños\n",
      "Hildalgo pide más dinero por Air Europa y retrasa la venta\n",
      "El emotivo mensaje de un padre a los médicos que salvaron a su hijo: “Me han dado la vida”\n",
      "Antón Losada explica en qué se diferencia lo que ha hecho Irene Montero de lo que hace siempre Vox\n",
      "João ya tiene precio: 100 millones\n",
      "¿Sirve para algo el boicot personal e intransferible al Mundial de Qatar?\n",
      "Confirmados los juegos gratis de PS Plus en diciembre de 2022 para PS5 y PS4\n"
     ]
    }
   ],
   "source": [
    "for h2 in tags:\n",
    "    print(h2.text)\n",
    "    resultados.append(h2.text)"
   ]
  },
  {
   "cell_type": "markdown",
   "id": "71bf1a8a",
   "metadata": {},
   "source": [
    "## El trabajo continúa con otras secciones\n",
    "Este trabajo explora otras secciones de la página web de el diario El País. Por lo tanto, repetiremos este proceso con la url de la sección de internacional. \n",
    "Una vez más, limitaremos el valor a 200 y solicitaremos el acceso a través de la librería requests. La variable pasa a ser \"req2\"."
   ]
  },
  {
   "cell_type": "code",
   "execution_count": 16,
   "id": "5f594e0f",
   "metadata": {},
   "outputs": [],
   "source": [
    "req2 = requests.get(\"https://elpais.com/internacional\")\n",
    "# Si el estatus code no es 200 no se puede leer la página\n",
    "if (req.status_code != 200):\n",
    " raise Exception(\"No se puede hacer Web Scraping en\"+ URL)\n",
    "soup2 = BeautifulSoup(req2.text, 'html.parser')"
   ]
  },
  {
   "cell_type": "markdown",
   "id": "f61ac2e9",
   "metadata": {},
   "source": [
    "De nuevo, buscaremos todas las etiquetas \"h2\" y las imprimimos."
   ]
  },
  {
   "cell_type": "code",
   "execution_count": 17,
   "id": "5bca66ed",
   "metadata": {},
   "outputs": [
    {
     "name": "stdout",
     "output_type": "stream",
     "text": [
      "El historiador Serhii Plokhy: “El destino de la guerra ya está claro: Ucrania será independiente y Rusia queda tremendamente debilitada”\n",
      "Hungría evita la confrontación con Bruselas y confía en desbloquear los fondos europeos en 2023 \n",
      "Bruselas promueve un tribunal especial para juzgar a la cúpula de Putin por sus crímenes en Ucrania\n",
      "Una globalización centrada en los seres humanos\n",
      "Autocracia en crisis\n",
      "“¿De qué color es el hambre, mamá?”\n",
      "China: una protesta nacional\n",
      "Publicar no es un delito\n",
      "Bruselas exige congelar fondos europeos a Hungría por las violaciones del Estado de derecho\n",
      "Hungría acelera las medidas anticorrupción para rebajar la magnitud del castigo europeo\n",
      "China relaja las medidas anticovid en Guangzhou para frenar nuevas protestas\n",
      "Nicolás Maduro condiciona la celebración de elecciones libres al levantamiento de sanciones \n",
      "Muere el expresidente de China Jiang Zemin\n",
      "La doble respuesta de China a las protestas: acelerar la vacunación de los mayores y descabezar las manifestaciones \n",
      "La selección del jurado popular marca el inicio del juicio por los atentados yihadistas de 2016 en Bruselas\n",
      "La OTAN redobla su alerta sobre una China en ebullición\n",
      "La tragedia de los menores en zona de guerra: 230 millones de niños viven en los conflictos más cruentos del mundo\n",
      "Macron viaja a Washington para “resincronizarse” con Biden ante el impacto de la guerra en Ucrania\n",
      "Rusia culpa a EE UU de la cancelación del encuentro bilateral sobre control de armas nucleares\n",
      "Quince periodistas e integrantes de ‘El Faro’ demandan al fabricante del software espía Pegasus \n",
      "La hija de Hugo Chávez califica de “grotesco” un video oficialista en homenaje a su padre\n",
      "Nueva York internará en psiquiátricos contra su voluntad a las personas sin hogar con trastornos mentales graves\n",
      "El líder del grupo ultraderechista Oath Keepers, culpable de sedición por el asalto al Capitolio\n",
      "Estados Unidos prepara una ley para evitar una huelga de ferrocarriles en vísperas de Navidad\n"
     ]
    }
   ],
   "source": [
    "tags = soup2.findAll(\"h2\")\n",
    "for h2 in tags:\n",
    "    print(h2.text)\n",
    "    resultados.append(h2.text)"
   ]
  },
  {
   "cell_type": "markdown",
   "id": "82465ac8",
   "metadata": {},
   "source": [
    "Realizaremos el mismo trabajo con las secciones de opinión, España, economía, sociedad, educación, clima y medio ambiente, ciencia, cultura, babelia, deportes, tecnología, gente, televisión y eps. Estas serian las funciones a lanzar. "
   ]
  },
  {
   "cell_type": "markdown",
   "id": "4c0e8918",
   "metadata": {},
   "source": [
    "### Opinión"
   ]
  },
  {
   "cell_type": "code",
   "execution_count": 18,
   "id": "c3a6166c",
   "metadata": {},
   "outputs": [
    {
     "name": "stdout",
     "output_type": "stream",
     "text": [
      "Empecinamiento sobre Melilla \n",
      "Proteger al Constitucional\n",
      "República federal laica\n",
      "Abolir la prostitución\n",
      "‘A compás’\n",
      "Las píldoras de Enzensberger\n",
      "Bildu como ‘síntoma’ generacional\n",
      "Pedro Sánchez pasará a la historia\n",
      "Autocracia en crisis\n",
      "Las sombras de TikTok\n",
      "Carta de socorro\n",
      "Planes para frenar el suicidio\n",
      "Brasil en transición\n",
      "La celebración de dar gracias\n",
      "Cadáveres exquisitos\n",
      "El Roto\n",
      "Flavita Banana\n",
      "Riki Blanco\n",
      "Peridis\n",
      "Sciammarella\n",
      "Envía tu carta\n",
      "La salud es más importante que la báscula\n",
      "Así funciona la corrupción\n",
      "Mucho texto\n",
      "Noticias positivas en tiempos caóticos\n",
      "Bomba nuclear en Barcelona\n",
      "Una maldita lista en tiempos airados\n",
      "El defensor del lector contesta\n"
     ]
    }
   ],
   "source": [
    "req3 = requests.get(\"https://elpais.com/opinion\")\n",
    "# Si el estatus code no es 200 no se puede leer la página\n",
    "if (req.status_code != 200):\n",
    " raise Exception(\"No se puede hacer Web Scraping en\"+ URL)\n",
    "soup3 = BeautifulSoup(req3.text, 'html.parser')\n",
    "\n",
    "tags = soup3.findAll(\"h2\")\n",
    "for h2 in tags:\n",
    "    print(h2.text)\n",
    "    resultados.append(h2.text)"
   ]
  },
  {
   "cell_type": "markdown",
   "id": "76f01030",
   "metadata": {},
   "source": [
    "### España"
   ]
  },
  {
   "cell_type": "code",
   "execution_count": 19,
   "id": "5d7b5f2f",
   "metadata": {},
   "outputs": [
    {
     "name": "stdout",
     "output_type": "stream",
     "text": [
      "La censura del Congreso a Marlaska por la tragedia de Melilla deja su futuro en manos de la Fiscalía\n",
      "La Eurocámara presionará para que Marlaska dé explicaciones sobre la tragedia de Melilla\n",
      "Malestar en el Gobierno y el PSOE con Montero por acusar al PP de promover la cultura de la violación\n",
      "Alberto Núñez Feijóo, nacionalista\n",
      "La caverna\n",
      "Aunque nos tiemble la barbilla\n",
      "Orfandad representativa\n",
      "Otra forma de violencia política\n",
      "El número de españoles en cárceles extranjeras repunta un 15% tras el fin de la pandemia\n",
      "Defensa invertirá 80 millones en su futuro Sistema de Combate en el Ciberespacio\n",
      "Temporeros de Jaén duermen a la intemperie aunque los albergues están semivacíos\n",
      "Todos los partidos coinciden en acusar a Marlaska de mentir y engañar en su versión sobre la tragedia de Melilla el 24-J\n",
      "Nueva trifulca en el Congreso: Irene Montero pasa de atacada a provocadora\n",
      "El embajador de Ucrania y una empresa de armas reciben sendas cartas con sustancias deflagrantes\n",
      "Acnur cuestiona la legalidad de las devoluciones a Marruecos durante la tragedia de Melilla \n",
      "El Constitucional rechaza celebrar ya un pleno para examinar a los dos magistrados designados por el Gobierno\n",
      "Lambán afirma que “mejor le habría ido a España” si Javier Fernández hubiese liderado al PSOE\n",
      "Los ciberataques más peligrosos a las redes públicas casi se duplican en España durante el último año\n",
      "Los tres polizones llegados a Gran Canaria piden asilo \n",
      "Los hermanos que impulsaron una revolución tecnológica desde Valencia\n",
      "Hay casi 4.000 cervezas artesanas españolas. ¿Cómo probarlas todas?\n"
     ]
    }
   ],
   "source": [
    "req4 = requests.get(\"https://elpais.com/espana/\")\n",
    "# Si el estatus code no es 200 no se puede leer la página\n",
    "if (req.status_code != 200):\n",
    " raise Exception(\"No se puede hacer Web Scraping en\"+ URL)\n",
    "soup4 = BeautifulSoup(req4.text, 'html.parser')\n",
    "\n",
    "tags = soup4.findAll(\"h2\")\n",
    "for h2 in tags:\n",
    "    print(h2.text)\n",
    "    resultados.append(h2.text)"
   ]
  },
  {
   "cell_type": "markdown",
   "id": "825d63d6",
   "metadata": {},
   "source": [
    "### Economía"
   ]
  },
  {
   "cell_type": "code",
   "execution_count": 20,
   "id": "e369910c",
   "metadata": {},
   "outputs": [
    {
     "name": "stdout",
     "output_type": "stream",
     "text": [
      "La pensión máxima subirá un 3% hasta 2050 y la cotización más alta, un 35%\n",
      "El euríbor cierra noviembre en su mayor nivel desde 2008: la cuota de los que revisen ahora su pago crecerá un 44%\n",
      "Cepsa invertirá 3.000 millones en el mayor proyecto de hidrógeno verde de Europa\n",
      "Transportes reforzará en 2023 la inspecciones para garantizar que los camioneros no trabajen a pérdidas\n",
      "Los desafíos al proceso de transición ecológica\n",
      "La moda de la sostenibilidad\n",
      "Impuesto erróneo a la banca\n",
      "Sufrimientos evitables\n",
      "El coste de la vida\n",
      "Cosecha de ingresos en las constructoras y concesionarias: facturan 6.000 millones más hasta septiembre\n",
      "Arabia Saudí encarga otros cinco buques de guerra a Navantia \n",
      "Los ingresos tributarios hasta octubre ya superan lo recaudado en todo 2021\n",
      "Prisa presenta el plan para redoblar su apuesta por la sostenibilidad\n",
      "Estos picos han enamorado al chef José Andrés y están hasta en las mesas de Corea del Sur\n",
      "El BBVA gana a Merlin el arbitraje sobre la Operación Chamartín\n",
      "Breton exige a Musk que refuerce su política de moderación de contenidos y desinformación en Twitter\n",
      "Una celestina solar para instalar paneles\n",
      "España, en el podio de países de la OCDE con mayor alza de la presión fiscal en una década\n",
      "El gigante chino Alibaba lanza en España una nueva plataforma de comercio electrónico\n",
      "Powell sugiere que la Reserva Federal frenará el ritmo de subidas de tipos en diciembre\n",
      "Madrid, la nueva Miami: así se han hecho con la capital los ricos latinoamericanos\n",
      "Si no tiene ahorros, esta es una de las pocas alternativas para comprar casa\n",
      "Los efectos de una economía de andar por casa\n",
      "Caballos al galope: un negocio con un impacto económico de 7.400 millones de euros\n",
      "Los impuestos que se necesitan para construir la sociedad del futuro\n",
      "Hildalgo pide más dinero por Air Europa y retrasa la venta\n",
      "Órdago de los agentes sociales a Escrivá: sin acuerdo político no negocian el cálculo de la pensión\n",
      "Telefónica estudiará nuevas medidas de ahorro ante el escenario inflacionario\n",
      "Barceló irrumpe en la venta de Hotelatelier con una oferta de 200 millones de euros\n",
      "Por primera vez un juez declara nulo un contrato de alquiler por aplicación de la perspectiva de género\n",
      "Visitas a centros de acogida y muchas horas de estudio: así se forman los jueces en materia de género\n",
      "La justicia obliga a Iberia a controlar el peso de las maletas para que los azafatos no se lesionen\n",
      "‘Phishing’, ‘malware’ o ‘ransomware’: el reto de formar en ciberseguridad tras la pandemia\n",
      "La difícil tarea de recuperar el talento investigador que un día hizo las maletas\n",
      "Descubre las formaciones de marketing ‘online’ más buscadas de 2023\n",
      "Logística de ida y vuelta, cuando la solución está en reciclar menos y reutilizar más\n",
      "Logística y digitalización, el manual de supervivencia para pymes\n",
      "Empleados satisfechos, empresas de éxito\n",
      "Diez claves del bienestar corporativo para empresas de éxito\n",
      "Las aventuras de un par de calcetines que dan empleo a todo un pueblo\n",
      "Cultura financiera como punto de partida para volver a empezar\n",
      "Cómo aplicar el ‘design thinking’ a cualquier negocio\n",
      "Las soluciones digitales que necesita mi negocio \n",
      "Alexia Putellas, un Balón de Oro a base de “esfuerzo, constancia, disciplina y saber reinventarse”\n",
      "El método Muñoz para triunfar en cada reto que se propone\n",
      "¿Por qué muchos inversores están volviendo a confiar en Japón?\n",
      "¿Por qué se está enfriando la economía china?\n",
      "No una, sino cinco ‘startups’ para la esperanza\n",
      "Si tú lo imaginas, yo te lo imprimo\n",
      "Cómo garantizar la seguridad en un mundo de amenazas híbridas\n",
      "¿Cuáles son los dilemas éticos del uso de la inteligencia artificial?\n",
      "Una alianza para que vuelvan a sonreír los más desfavorecidos\n",
      "Publicidad responsable y menos azúcar para un entorno alimentario saludable\n",
      "Barcelona, punta de lanza de la nueva filosofía de los polígonos industriales\n",
      "Cómo conseguir ayudas a la digitalización para autónomos y pymes con Kit Digital\n",
      "Un brindis con vino español por la sostenibilidad, la economía y el empleo\n"
     ]
    }
   ],
   "source": [
    "req5 = requests.get(\"https://elpais.com/economia/\")\n",
    "# Si el estatus code no es 200 no se puede leer la página\n",
    "if (req.status_code != 200):\n",
    " raise Exception(\"No se puede hacer Web Scraping en\"+ URL)\n",
    "soup5 = BeautifulSoup(req5.text, 'html.parser')\n",
    "\n",
    "tags = soup5.findAll(\"h2\")\n",
    "for h2 in tags:\n",
    "    print(h2.text)\n",
    "    resultados.append(h2.text)"
   ]
  },
  {
   "cell_type": "markdown",
   "id": "3e9f1c7c",
   "metadata": {},
   "source": [
    "### Sociedad"
   ]
  },
  {
   "cell_type": "code",
   "execution_count": 21,
   "id": "4eb13925",
   "metadata": {},
   "outputs": [
    {
     "name": "stdout",
     "output_type": "stream",
     "text": [
      "El retraso en resolver contratos predoctorales deja en el limbo a cientos de jóvenes: “Es la desesperación” \n",
      "Condenada por hurto en supermercados: “Lo mejor que me podía haber pasado fue entrar en prisión”\n",
      "Así fue el ataque con ácido sulfúrico de ‘El Melillero’: “Perra, mongola, tonta”\n",
      "Qué es la cultura de la violación de la que habla Irene Montero\n",
      "La caja de resonancia de la angustia vital\n",
      "Para acabar con la violencia de género, necesitamos más mujeres en posiciones de poder \n",
      "Los secretos atronadores del secretario general\n",
      "PSOE y Unidas Podemos aplazan el debate sobre la autodeterminación de género en la ‘ley trans’\n",
      "Un plan de choque de 356 millones para intentar salvar Doñana de su creciente declive \n",
      "España gana medio millón de habitantes en una década, pero siete de cada 10 municipios pierden población \n",
      "El Senado de Estados Unidos aprueba una ley para blindar el matrimonio homosexual\n",
      "Solo el 44% de los adolescentes con conductas suicidas ha recibido tratamiento psicológico en los últimos tres años\n",
      "Bruselas quiere que todos los embalajes de la UE sean reciclables para 2030\n",
      "Qué es la cultura de la violación de la que habla Irene Montero\n",
      "¿Adiós a los anuncios con coches para niños y cocinas para niñas? Los jugueteros pactan desterrar los estereotipos sexistas en la publicidad\n",
      "Portugal, el secreto de un país sin bicicletas que se convirtió en el mayor fabricante europeo\n",
      "Claves de la ley de trata: centrada en las víctimas y protección integral\n",
      "El estrés académico lastra el aprendizaje de los niños de nivel socioeconómico bajo\n",
      "Unas gafas que cambian la forma de ver el mundo\n",
      "Cambia tu relación con los papeles de la cocina\n",
      "Social, clínica y en primera persona. Tres visiones del VIH \n",
      "Enfermería, los profesionales de las ‘curas invisibles’ en las personas con VIH\n",
      "Sostenibilidad y... ¡acción! \n",
      "La huella de carbono, el rastro que marca el futuro del planeta\n",
      "Psoriasis, en las profundidades de la piel\n",
      "Contar para sanar\n",
      "Qué hacer con tres millones de colchones\n",
      "La nueva revolución agrícola \n",
      "Lo lejos que se puede llegar con otra metodología educativa \n",
      "Cuando el empleo se convierte en la mejor terapia \n",
      "A solas con la obesidad\n",
      "Freno y marcha atrás en la obesidad infantil\n",
      "“La ópera, como la naturaleza, está viva, y debe evolucionar para ser eterna” \n",
      "¿Hasta dónde puede llegar el ser humano? El viaje a la oscuridad más absoluta\n",
      "El futuro de la alimentación se encuentra en el agua\n",
      "Acuicultura: la importancia de comer ‘azul’ para vivir en verde\n",
      "El futuro de la aviación verde\n",
      "En busca de la eficiencia energética en los aeropuertos\n",
      "Un día en el servicio de ayuda a domicilio\n",
      "Trabajadores esenciales. Los que nunca paran\n",
      "Añadir comida húmeda a la dieta de perros y gatos: beneficios palpables\n",
      "Consejos para alimentar correctamente a los animales de compañía\n",
      "Combatir el desperdicio alimentario desde la cesta de la compra\n",
      "Kilómetro cero para llenar la despensa\n",
      "Acompañamiento, el modelo alternativo de acogida de refugiados\n",
      "El metro como refugio. De los andenes de Madrid en 1936 a los de Kiev en 2022\n",
      "Yogures con menos azúcar, paso firme hacia la alimentación infantil del futuro\n",
      "Invisible, pero vital: el ciclo de las aguas subterráneas\n",
      "La bomba de calor, el sistema de climatización más sostenible y eficiente\n"
     ]
    }
   ],
   "source": [
    "req6 = requests.get(\"https://elpais.com/sociedad/\")\n",
    "# Si el estatus code no es 200 no se puede leer la página\n",
    "if (req.status_code != 200):\n",
    " raise Exception(\"No se puede hacer Web Scraping en\"+ URL)\n",
    "soup6 = BeautifulSoup(req6.text, 'html.parser')\n",
    "\n",
    "tags = soup6.findAll(\"h2\")\n",
    "for h2 in tags:\n",
    "    print(h2.text)\n",
    "    resultados.append(h2.text)"
   ]
  },
  {
   "cell_type": "markdown",
   "id": "7b85aaa1",
   "metadata": {},
   "source": [
    "### Educación"
   ]
  },
  {
   "cell_type": "code",
   "execution_count": 22,
   "id": "d7b2b053",
   "metadata": {},
   "outputs": [
    {
     "name": "stdout",
     "output_type": "stream",
     "text": [
      "El retraso en resolver contratos predoctorales deja en el limbo a cientos de jóvenes: “Es la desesperación” \n",
      "El estrés académico lastra el aprendizaje de los niños de nivel socioeconómico bajo\n",
      "‘Phishing’, ‘malware’ o ‘ransomware’: el reto de formar en ciberseguridad tras la pandemia\n",
      "La escuela concertada matricula a la mitad del alumnado desfavorecido que le correspondería\n",
      "El Gobierno dará un subsidio de 400 euros anuales a los alumnos con necesidades especiales\n",
      "La expulsión de una clase en un colegio de Palma tras colocar una bandera de España deriva en graves amenazas a una profesora \n",
      "Pobreza en el Olimpo académico de EE UU: la huelga en la Universidad de California es ya una de las más grandes del país\n",
      "El primer Mundial en horario lectivo y con ‘smartphones’ se juega también en los institutos\n",
      "El cabecilla de los cánticos machistas del Elías Ahuja vuelve al colegio mayor pese a anunciarse su expulsión definitiva\n",
      "La nueva ley de enseñanzas artísticas endurecerá los requisitos para ser profesor y hará más homogéneas las pruebas de acceso del alumnado\n",
      "Una madre denuncia insultos homófobos a su hija en un colegio de Madrid: “Su tutor nos dijo que tenemos que respetar la opinión de los demás”\n",
      "Evaluar competencias\n",
      "La Selectividad a los 50: ¿cirugía mayor o estiramiento facial?\n",
      "La libertad de elección de centro educativo y los cheques escolares en Madrid\n",
      "Selectividad: Desatar el nudo gordiano\n",
      "El nuevo sistema para evaluar los conocimientos digitales de los profesores valdrá en toda España\n",
      "Ofrecer comedor gratis en todos los colegios públicos es “alcanzable y urgente”: costaría 1.664 millones al año, según la ONG Educo  \n",
      "Una fórmula para que la escuela pública compita mejor con la concertada\n",
      "La pérdida de alumnos por el descenso de la natalidad está afectando con más fuerza a la escuela pública que a la concertada\n",
      "La disparidad de resultados entre autonomías en la EVAU se origina en la escuela, no en el examen \n",
      "Las autonomías del PP critican la nueva Selectividad porque no prevé un examen único para todo el Estado\n",
      "La escalada vertiginosa de notas en Bachillerato: los sobresalientes de los que llegan a Selectividad se doblan en seis años\n",
      "El caso de Georgia, en EE UU: becar sin importar la renta agranda la desigualdad\n",
      "El techo de cristal del grado medio de FP: candidatos demasiado preparados se quedan con los puestos\n",
      "César Rendueles: “Hay universidades privadas que son como academias de conducir con pretensiones”\n",
      "La fuga de miles de médicos agrava el déficit de especialistas en España\n",
      "Jóvenes tutelados en la Universidad: “Tu pasado no tiene por qué condicionar tu futuro”\n",
      "Si tu familia está desahogada estudiarás Medicina y dobles grados, si no, Óptica o Educación \n",
      "La historia de una niña que soñó con ser pianista\n",
      "Pon nombre a lo que te pasa para sentirte mejor\n",
      "Volver a empezar\n"
     ]
    }
   ],
   "source": [
    "req7 = requests.get(\"https://elpais.com/educacion/\")\n",
    "# Si el estatus code no es 200 no se puede leer la página\n",
    "if (req.status_code != 200):\n",
    " raise Exception(\"No se puede hacer Web Scraping en\"+ URL)\n",
    "soup7 = BeautifulSoup(req7.text, 'html.parser')\n",
    "\n",
    "tags = soup7.findAll(\"h2\")\n",
    "for h2 in tags:\n",
    "    print(h2.text)\n",
    "    resultados.append(h2.text)"
   ]
  },
  {
   "cell_type": "markdown",
   "id": "63703d40",
   "metadata": {},
   "source": [
    "### Clima y medio ambiente"
   ]
  },
  {
   "cell_type": "code",
   "execution_count": 23,
   "id": "96f328c0",
   "metadata": {},
   "outputs": [
    {
     "name": "stdout",
     "output_type": "stream",
     "text": [
      "Un plan de choque de 356 millones para intentar salvar Doñana de su creciente declive \n",
      "La deforestación de la Amazonia cae un 11% en el último balance anual de la era Bolsonaro\n",
      "Portugal, el secreto de un país sin bicicletas que se convirtió en el mayor fabricante europeo\n",
      "Bruselas quiere que todos los embalajes de la UE sean reciclables para 2030\n",
      "La misteriosa llegada del pájaro parecido a un pingüino que preocupa en las costas mediterráneas\n",
      "Alex Rafalowicz, abogado: “Los combustibles fósiles son una amenaza existencial como las armas nucleares”\n",
      "El problema con los suelos: un mundo vivo, desconocido y muy desprotegido\n",
      "Los agujeros legales de las finanzas sostenibles: así acaba el dinero de los fondos de inversión más verdes en empresas contaminantes\n",
      "Gobierno y Junta chocan por Doñana mientras se agrava el deterioro ecológico \n",
      "Linces y águilas imperiales se refugian en fincas privadas que se alían con conservacionistas  \n",
      "¿Podré matar a una rata que entre en mi casa? Claves de la reforma del Código Penal para castigar más el maltrato animal\n",
      "El cambio climático perjudica su salud\n",
      "Por qué comer animales puede ayudar a luchar contra el cambio climático\n",
      "Por qué hay que dejar de comer animales para luchar contra el cambio climático\n",
      "Bombas de carbono \n",
      "Crisis de los insectos: esto no es un armagedón sino una debacle provocada por los humanos\n",
      "El quebrantahuesos reconquista los cielos \n",
      "Un año de crisis climática sin fin\n",
      "Ríos imposibles: las 171.000 barreras que rompen el curso de agua en España\n",
      "La historia de una niña que soñó con ser pianista\n",
      "Pon nombre a lo que te pasa para sentirte mejor\n",
      "Volver a empezar\n"
     ]
    }
   ],
   "source": [
    "req8 = requests.get(\"https://elpais.com/clima-y-medio-ambiente/\")\n",
    "# Si el estatus code no es 200 no se puede leer la página\n",
    "if (req.status_code != 200):\n",
    " raise Exception(\"No se puede hacer Web Scraping en\"+ URL)\n",
    "soup8 = BeautifulSoup(req8.text, 'html.parser')\n",
    "\n",
    "tags = soup8.findAll(\"h2\")\n",
    "for h2 in tags:\n",
    "    print(h2.text)\n",
    "    resultados.append(h2.text)"
   ]
  },
  {
   "cell_type": "markdown",
   "id": "c40297b0",
   "metadata": {},
   "source": [
    "### Ciencia"
   ]
  },
  {
   "cell_type": "code",
   "execution_count": 24,
   "id": "0ed3ffe4",
   "metadata": {},
   "outputs": [
    {
     "name": "stdout",
     "output_type": "stream",
     "text": [
      "75 años de la muerte de G.H. Hardy, un matemático excéntrico y brillante\n",
      "Elon Musk asegura que en seis meses se implantará el primer chip en un cerebro humano con Neuralink\n",
      "El desafío de envejecer con VIH: “Las personas de largo recorrido sufrimos depresión, ansiedad y deterioro cognitivo”\n",
      "Un meteorito provoca un fuerte estruendo sentido en toda Gran Canaria\n",
      "Hallan en Transilvania una nueva especie de dinosaurio enano herbívoro que vivió hace 70 millones de años\n",
      "La primera simulación cuántica de un agujero de gusano abre una nueva puerta para entender el universo\n",
      "Un fármaco experimental contra el alzhéimer confirma efectos positivos, pero puede estar detrás de la muerte de dos pacientes \n",
      "Escrito en las estrellas, ¿qué hemos aprendido de ellas?\n",
      "El problema con los suelos: un mundo vivo, desconocido y muy desprotegido\n",
      "Los hogares más pobres reducen su consumo de refrescos casi 11 litros en un año por la subida del IVA\n",
      "Ronna, ronto, quetta y quecto, los nuevos prefijos para magnitudes extraordinarias\n",
      "Por qué unas personas resisten el estrés mejor que otras \n",
      "Joseph Henrich, antropólogo evolutivo: “El mejor antídoto contra el supremacismo blanco es más ciencia y discutir ideas”\n",
      "“Houston, tenemos un nuevo récord”: ‘Orion’ llega más lejos que ninguna otra nave diseñada para llevar astronautas\n",
      "En busca de una solución para los dolores que se creían inventados\n",
      "Un parásito ‘elige’ qué lobo será el líder de la manada\n",
      "Escrito en las estrellas, ¿qué hemos aprendido de ellas?\n",
      "75 años de la muerte de G.H. Hardy, un matemático excéntrico y brillante\n",
      "Hilda Hudson, la primera conferenciante en el gran congreso internacional de matemáticas\n",
      "Por qué el entrelazamiento cuántico revoluciona nuestro entendimiento de la naturaleza\n",
      "La órbita del telescopio ‘James Webb’ y el problema de los tres cuerpos\n",
      "Sangaku\n",
      "El tamiz de Apolonio\n",
      "La respuesta a la gran pregunta\n",
      "El aroma de la inspiración y la piedra de la locura\n",
      "‘Los hijos de Hansen’ y la marginación social provocada por la lepra\n",
      "Los fractales y su estructura narrativa como parte del relato\n",
      "El amanecer de todo y el dinosaurio como animal modernista\n",
      "Los universos paralelos de un visionario científico llamado Philip K. Dick\n",
      "¿Por qué son rocosos los satélites de los planetas gaseosos?\n",
      "¿Es nueva la producción de alimentos en macrogranjas? \n",
      "¿Cómo se ve el cielo nocturno desde el ecuador?\n",
      "¿Por qué las olas van siempre hacia la playa?\n",
      "Listeria: el patógeno que trae de cabeza a la industria alimentaria\n",
      "Ciencia para derrumbar el mito de que la soja es mala para prevenir el cáncer de mama\n",
      "Cuidado con las conservas caseras: es importante hacerlas bien\n",
      "Una propuesta alternativa, barata y saludable a la nueva cesta de la compra\n",
      "Aditivos, propiedades saludables y fechas de caducidad: guía para entender las etiquetas alimentarias\n"
     ]
    }
   ],
   "source": [
    "req9 = requests.get(\"https://elpais.com/ciencia/\")\n",
    "# Si el estatus code no es 200 no se puede leer la página\n",
    "if (req.status_code != 200):\n",
    " raise Exception(\"No se puede hacer Web Scraping en\"+ URL)\n",
    "soup9 = BeautifulSoup(req9.text, 'html.parser')\n",
    "\n",
    "tags = soup9.findAll(\"h2\")\n",
    "for h2 in tags:\n",
    "    print(h2.text)\n",
    "    resultados.append(h2.text)"
   ]
  },
  {
   "cell_type": "markdown",
   "id": "9d0ff33e",
   "metadata": {},
   "source": [
    "### Cultura"
   ]
  },
  {
   "cell_type": "code",
   "execution_count": 25,
   "id": "2ea9f0e7",
   "metadata": {},
   "outputs": [
    {
     "name": "stdout",
     "output_type": "stream",
     "text": [
      "‘As bestas’, de Rodrigo Sorogoyen, lidera la carrera a los Premios Goya 2023 con 17 nominaciones\n",
      "Todas las nominaciones a los Premios Goya 2023\n",
      "Muere Christine McVie, cantante y teclista de la legendaria banda Fleetwood Mac, a los 79 años\n",
      "¿Cómo empezó?\n",
      "‘Company’ y el olor de la gran manzana\n",
      "Charlie Watts: el bicho más raro de The Rolling Stones\n",
      "Meter la mano en la vaca \n",
      "La respuesta a la guerra en Ucrania también es literaria\n",
      "Juana Dolores, la nueva ‘enfant terrible’ de la cultura catalana: “Hay mucho silencio y autocensura en la literatura”\n",
      "Una investigación saca a la luz 170 escritos inéditos de Miguel Hernández\n",
      "El Sónar 2023 anuncia a Richie Hawtin, Laurent Garnier o The Blessed Madonna entre sus primeros artistas invitados\n",
      "Nace el Centro Nacional de la Fotografía: lo tenemos más fácil por ser los últimos\n",
      "El arte reivindica la belleza y la fragilidad del vidrio\n",
      "Daniel López Valle: “Nos da miedo pensar en el poder que tiene el azar en nuestras vidas”\n",
      "El toque manual de campana español, declarado Patrimonio Cultural Inmaterial por la Unesco\n",
      "Lo más escuchado en Spotify en 2022: solo Rosalía se coloca en España en una lista dominada por hombres latinos\n",
      "¿Quedan cines de barrio? ¿Toda España se hizo artista en el confinamiento? ¿Importan los premios? Los números responden\n",
      "¿Se imaginan a la Generalitat criticando el día de Sant Jordi?\n",
      "Almodóvar, en la lectura de la obra de Paco Bezerra: “Nunca imaginé que iba a asistir hoy a un acto contra la censura”\n",
      "Un tatuaje y un bebé en el nombre de Mircea Cărtărescu\n",
      "Santo Estevo, el monasterio al que todos le tienen fe\n",
      "La Calahorra de siempre, más viva que nunca\n",
      "La novela negra del siglo XXI no existe (sin Michael Connelly)\n",
      "Disfruta en familia de 'El pequeño Mozart'\n",
      "El MET Opera en Cine Yelmo a través de +Que Cine\n",
      "Descubre la exposición 'Hijas del Nilo'\n",
      "'Un animal en mi almohada' en el Teatro Fernán Gómez\n",
      "La temida voltereta de la abolición de los toros en el sur de Francia quedó en un susto\n",
      "Las obras de mejora de la plaza de toros de Las Ventas comienzan en diciembre\n",
      "Actos a favor y en contra de los toros en Francia antes de que se debata su prohibición\n",
      "Luis Miguel Leiro, picador premiado y desencantado: “Amo y respeto a los animales, pero el toro ha nacido para la lidia”\n"
     ]
    }
   ],
   "source": [
    "req10 = requests.get(\"https://elpais.com/cultura/\")\n",
    "# Si el estatus code no es 200 no se puede leer la página\n",
    "if (req.status_code != 200):\n",
    " raise Exception(\"No se puede hacer Web Scraping en\"+ URL)\n",
    "soup10 = BeautifulSoup(req10.text, 'html.parser')\n",
    "\n",
    "tags = soup10.findAll(\"h2\")\n",
    "for h2 in tags:\n",
    "    print(h2.text)\n",
    "    resultados.append(h2.text)"
   ]
  },
  {
   "cell_type": "markdown",
   "id": "88ee4c96",
   "metadata": {},
   "source": [
    "### Babelia"
   ]
  },
  {
   "cell_type": "code",
   "execution_count": 26,
   "id": "b6888008",
   "metadata": {},
   "outputs": [
    {
     "name": "stdout",
     "output_type": "stream",
     "text": [
      "Roe Ethridge, el fructífero intercambio entre el arte y el comercio\n",
      "Lo nuevo de Rihanna, Bruce Springsteen, Niño de Elche (con Rosalía) y otras canciones de noviembre\n",
      "‘La última vez’, de Guillermo Martínez: un laberinto con final milagrosamente imprevisible\n",
      "La lección magistral de Bob Dylan sobre Elvis\n",
      "Cuando la furia de Twitter empaña un (interesante) debate narrativo\n",
      "La curva de la semana: sube Cristina Morales, está aquí Aldo Manucio, baja Rosalía\n",
      "Las nuevas coordenadas culturales de Latinoamérica\n",
      "Las más bellas cartas de amor en castellano, las memorias de Marguerite Duras y otros libros de la semana\n",
      "Amor mío queridísimo: la delicadeza sentimental de Felisberto Hernández\n",
      "Ellas fueron modernas: cuatro artistas alemanas en la vorágine del cambio de siglo\n",
      "Anacrónicas y audaces: las cantautoras latinas que renuevan la música de raíz\n",
      "Lo que jode es la respuesta: la diferencia entre crítica, cancelación y censura\n",
      "Edmonia, Frida y Amrita: tres mestizas\n",
      "La basura se lee con anteojos\n",
      "Mi otoño alemán\n",
      "‘Percusión’: una novela del pasado para recordar el futuro\n",
      "Pere Gimferrer dentro del laberinto\n",
      "‘La brecha’: cómo cambiar un mundo mal hecho\n",
      "‘Tu sueño imperios han sido’: la historia boca arriba\n",
      "Nona Fernández: “En Chile intentan que conciliemos el sueño otra vez”\n",
      "Cristina Lucas: “Todo lo que se publicita está sobrevalorado”\n",
      "Enrique Gracián: “Hay infinitos más grandes que otros”\n",
      "Àlex Brendemühl: “La serie sobre el rey emérito no te deja indiferente”\n",
      "Marta Etura: “De no ser actriz, habría sido matrona”\n"
     ]
    }
   ],
   "source": [
    "req11 = requests.get(\"https://elpais.com/babelia/\")\n",
    "# Si el estatus code no es 200 no se puede leer la página\n",
    "if (req.status_code != 200):\n",
    " raise Exception(\"No se puede hacer Web Scraping en\"+ URL)\n",
    "soup11 = BeautifulSoup(req11.text, 'html.parser')\n",
    "\n",
    "tags = soup11.findAll(\"h2\")\n",
    "for h2 in tags:\n",
    "    print(h2.text)\n",
    "    resultados.append(h2.text)"
   ]
  },
  {
   "cell_type": "markdown",
   "id": "88b07c17",
   "metadata": {},
   "source": [
    "### Deportes"
   ]
  },
  {
   "cell_type": "code",
   "execution_count": 27,
   "id": "beec4838",
   "metadata": {},
   "outputs": [
    {
     "name": "stdout",
     "output_type": "stream",
     "text": [
      "Última hora\n",
      "El calendario\n",
      "Vídeo en directo\n",
      "Las predicciones\n",
      "La ‘newsletter’\n",
      "Argentina se gana los octavos \n",
      "“Si Lewandowski fuera argentino, igual mete cinco”\n",
      "México se queda a un gol del pase \n",
      "Sí, se puede ser feliz por una clasificación a octavos de final\n",
      "Mi tío Ricardo y la antena de la tele\n",
      "Jugar para tu país\n",
      "El mejor Messi juega, no golea \n",
      "España se ve lanzada  \n",
      "Morata encuentra su paz\n",
      "Japón y el dios del pie buscan al mejor Kamada\n",
      "Joshua Kimmich bajo vigilancia\n",
      "Kevin de Bruyne, entre la frustración y el miedo ante el día decisivo de Bélgica contra Croacia\n",
      "Marruecos, ante su mayor desafío histórico desde el 86\n",
      "Olga Viza: “Llevé la copa del Mundial de España 82 de copiloto en mi coche con la L en el cristal”\n",
      "Tata Martino lleva a México a su gran fracaso en el Mundial\n",
      "¡Viva mi desgracia!\n",
      "Túnez desnuda a los suplentes de Francia\n",
      "Una indesmayable Australia acaba con la insustancial Dinamarca y se mete en octavos\n",
      "Resumen de la jornada 11 del Mundial de Qatar 2022\n",
      "Pelé se mantiene estable tras ser hospitalizado de manera inesperada en São Paulo\n",
      "Última hora del Mundial de Qatar: vídeo en directo\n",
      "Catarí que te vi: Cómo llenar el depósito de gasolina por 22 euros en Qatar\n",
      "Última hora del Mundial de Qatar | Día 11\n",
      "La moneda que cambió para siempre el destino de España en los Mundiales\n",
      "Cómo no perderte ni un solo minuto del Mundial\n",
      "Las promesas del baloncesto español piden consejo a Sergio Scariolo\n",
      "A toda mecha hacia el mundial de la consagración\n",
      "Cómo disfrutar de la montaña con todas las garantías\n",
      "El mejor Messi juega, no golea \n",
      "Los vídeos de los goles y el resumen de la jornada 11 del Mundial de Qatar 2022\n",
      "Argentina se gana los octavos \n",
      "La jornada 11 del Mundial de Qatar en imágenes\n",
      "Los 97 goles del Mundial de Qatar 2022 hasta el momento\n",
      "¿Qué opciones tiene cada selección de pasar a octavos de final del Mundial?\n",
      "Última hora del Mundial de Qatar | Día 11\n",
      "Así hemos contado la victoria de Túnez ante Francia en el Mundial de Qatar 2022\n"
     ]
    }
   ],
   "source": [
    "req12 = requests.get(\"https://elpais.com/deportes/\")\n",
    "# Si el estatus code no es 200 no se puede leer la página\n",
    "if (req.status_code != 200):\n",
    " raise Exception(\"No se puede hacer Web Scraping en\"+ URL)\n",
    "soup12 = BeautifulSoup(req12.text, 'html.parser')\n",
    "\n",
    "tags = soup12.findAll(\"h2\")\n",
    "for h2 in tags:\n",
    "    print(h2.text)\n",
    "    resultados.append(h2.text)"
   ]
  },
  {
   "cell_type": "markdown",
   "id": "539007e1",
   "metadata": {},
   "source": [
    "### Tecnología"
   ]
  },
  {
   "cell_type": "code",
   "execution_count": 28,
   "id": "1e2f8583",
   "metadata": {},
   "outputs": [
    {
     "name": "stdout",
     "output_type": "stream",
     "text": [
      "Elon Musk asegura que en seis meses se implantará el primer chip en un cerebro humano con Neuralink\n",
      "Del referéndum de Cataluña a #Cuéntalo: los archiveros guardan tuits que han hecho historia\n",
      "La primera simulación cuántica de un agujero de gusano abre una nueva puerta para entender el universo\n",
      "La Policía de San Francisco contará con robots con capacidad de matar\n",
      "Ronna, ronto, quetta y quecto, los nuevos prefijos para magnitudes extraordinarias\n",
      "El problema de la cultura ‘brogrammer’: “Se está excluyendo la mirada femenina de las soluciones tecnológicas que van a modelar el futuro”\n",
      "Los ciberdelincuentes aprovechan el caos en Twitter para lanzar campañas de ‘phishing’\n",
      "Damian Burns, director de Twitch Europa: “No me importaría que mi hija fuera ‘streamer’”\n",
      "Adrian Hon, diseñador de videojuegos: “Las empresas y gobiernos usan juegos para controlarnos”\n",
      "Mastodon: qué es y cómo funciona la red social en la que los usuarios deciden qué está permitido\n",
      "Así serán las nuevas marcas de verificación en Twitter: azul, oro y gris\n",
      "Gafas con funciones de un móvil, ‘Photoshop’ instantáneo y otros inminentes avances gracias a los nuevos chips\n",
      "Elon Musk ya edita tuits y Twitter no se ha hundido aún, ¿qué hará en el futuro?\n",
      "Elon Musk declara una “amnistía general” en Twitter para las cuentas suspendidas\n",
      "Así está fallando Twitter: racismo, derechos de autor y desprotección en dictaduras\n",
      "La banca confía en tumbar en los tribunales el nuevo impuesto al sector\n",
      "Los cuatro coches que llegaron a España en el año de los Juegos y la Expo\n",
      "Ocho mil millones de cursis\n",
      "Guía de viaje a la nube: una aventura con escalas\n",
      "Árboles tuiteros contra la ceguera botánica\n",
      "De Baudelaire a Midjourney: los nuevos “enemigos mortales del arte”\n"
     ]
    }
   ],
   "source": [
    "req13 = requests.get(\"https://elpais.com/tecnologia/\")\n",
    "# Si el estatus code no es 200 no se puede leer la página\n",
    "if (req.status_code != 200):\n",
    " raise Exception(\"No se puede hacer Web Scraping en\"+ URL)\n",
    "soup13 = BeautifulSoup(req13.text, 'html.parser')\n",
    "\n",
    "tags = soup13.findAll(\"h2\")\n",
    "for h2 in tags:\n",
    "    print(h2.text)\n",
    "    resultados.append(h2.text)"
   ]
  },
  {
   "cell_type": "code",
   "execution_count": 29,
   "id": "67f93e07",
   "metadata": {},
   "outputs": [
    {
     "name": "stdout",
     "output_type": "stream",
     "text": [
      "Elon Musk asegura que en seis meses se implantará el primer chip en un cerebro humano con Neuralink\n",
      "Del referéndum de Cataluña a #Cuéntalo: los archiveros guardan tuits que han hecho historia\n",
      "La primera simulación cuántica de un agujero de gusano abre una nueva puerta para entender el universo\n",
      "La Policía de San Francisco contará con robots con capacidad de matar\n",
      "Ronna, ronto, quetta y quecto, los nuevos prefijos para magnitudes extraordinarias\n",
      "El problema de la cultura ‘brogrammer’: “Se está excluyendo la mirada femenina de las soluciones tecnológicas que van a modelar el futuro”\n",
      "Los ciberdelincuentes aprovechan el caos en Twitter para lanzar campañas de ‘phishing’\n",
      "Damian Burns, director de Twitch Europa: “No me importaría que mi hija fuera ‘streamer’”\n",
      "Adrian Hon, diseñador de videojuegos: “Las empresas y gobiernos usan juegos para controlarnos”\n",
      "Mastodon: qué es y cómo funciona la red social en la que los usuarios deciden qué está permitido\n",
      "Así serán las nuevas marcas de verificación en Twitter: azul, oro y gris\n",
      "Gafas con funciones de un móvil, ‘Photoshop’ instantáneo y otros inminentes avances gracias a los nuevos chips\n",
      "Elon Musk ya edita tuits y Twitter no se ha hundido aún, ¿qué hará en el futuro?\n",
      "Elon Musk declara una “amnistía general” en Twitter para las cuentas suspendidas\n",
      "Así está fallando Twitter: racismo, derechos de autor y desprotección en dictaduras\n",
      "La banca confía en tumbar en los tribunales el nuevo impuesto al sector\n",
      "Los cuatro coches que llegaron a España en el año de los Juegos y la Expo\n",
      "Ocho mil millones de cursis\n",
      "Guía de viaje a la nube: una aventura con escalas\n",
      "Árboles tuiteros contra la ceguera botánica\n",
      "De Baudelaire a Midjourney: los nuevos “enemigos mortales del arte”\n"
     ]
    }
   ],
   "source": [
    "req14 = requests.get(\"https://elpais.com/tecnologia/\")\n",
    "# Si el estatus code no es 200 no se puede leer la página\n",
    "if (req.status_code != 200):\n",
    " raise Exception(\"No se puede hacer Web Scraping en\"+ URL)\n",
    "soup14 = BeautifulSoup(req14.text, 'html.parser')\n",
    "\n",
    "tags = soup14.findAll(\"h2\")\n",
    "for h2 in tags:\n",
    "    print(h2.text)\n",
    "    resultados.append(h2.text)"
   ]
  },
  {
   "cell_type": "markdown",
   "id": "bf1eb029",
   "metadata": {},
   "source": [
    "### Gente"
   ]
  },
  {
   "cell_type": "code",
   "execution_count": 30,
   "id": "5a147b09",
   "metadata": {},
   "outputs": [
    {
     "name": "stdout",
     "output_type": "stream",
     "text": [
      "Shakira y Piqué sellan su acuerdo de separación en Barcelona ante el juez\n",
      "Spotify Wrapped, el selfi musical que monopoliza la conversación en Twitter y acaricia el ego\n",
      "Los príncipes de Gales emulan en su viaje a Boston la visita que la reina Isabel II hizo a la ciudad en 1976\n",
      "Buckingham fuerza la dimisión de una asistente de la reina Camila por sus comentarios racistas\n",
      "Los actores de ‘Love Actually’ se reencuentran: ¿qué ha sido de ellos 19 años después?\n",
      "El último desfile de Antonio Alvarado se expone en el Museo del Traje\n",
      "Antonio Alvarado, el museo como pasarela: su restrospectiva, en fotos\n",
      "Tres reinas, una princesa y dos primeras damas se reúnen en Buckingham contra la violencia de género\n",
      "Acuerdo de divorcio entre Kim Kardashian y Kanye West: custodia compartida y 200.000 dólares de pensión\n",
      "La ‘baguette’ francesa, declarada patrimonio inmaterial de la Unesco\n",
      "Los chocolates y bombones de Jordi Roca ponen un pie en Barcelona con una tienda efímera de Casa Cacao en un hotel de lujo\n",
      "¿Se puede ahorrar energía colocando alfombras, cortinas o mantas en el sofá? Los expertos responden\n",
      "Xuso Jones: “Tengo muchos más seguidores por mis ‘tips’ de limpieza que por mi música. Y me encanta”\n",
      "Una selección imprescindible de productos con descuento: comprar en Black Friday nunca fue tan fácil\n",
      "Achilles Ion Gabriel, el surrealista de Camper: “No hago zapatos para museos, sino para la gente” \n",
      "El regreso discreto de Mario Testino: “A mi edad, no creo que mi percepción de la moda sea la correcta ni la que el mundo necesita”\n",
      "Manuel Outumuro toca cumbre\n",
      "Diane de Beauvau-Craon, la última princesa rebelde: “Me drogué mucho, bebí mucho alcohol, me acosté con muchos gais y aquí sigo”\n",
      "En los secaderos ancestrales del pimentón de la Vera, el oro rojo de Cáceres\n",
      "Las abuelas que han viralizado el arte de elaborar la pasta italiana \n",
      "Humaredas mediáticas, monotonía, discursos vacíos y otras amenazas y retos de la gastronomía \n",
      "Sumer, el ‘kebab’ artesano de barrio en Madrid que acoge tertulias filosóficas\n",
      "El robot de cocina más famoso del mundo ha conquistado ya tres millones de hogares españoles\n"
     ]
    }
   ],
   "source": [
    "req15 = requests.get(\"https://elpais.com/gente/\")\n",
    "# Si el estatus code no es 200 no se puede leer la página\n",
    "if (req.status_code != 200):\n",
    " raise Exception(\"No se puede hacer Web Scraping en\"+ URL)\n",
    "soup15 = BeautifulSoup(req15.text, 'html.parser')\n",
    "\n",
    "tags = soup15.findAll(\"h2\")\n",
    "for h2 in tags:\n",
    "    print(h2.text)\n",
    "    resultados.append(h2.text)"
   ]
  },
  {
   "cell_type": "markdown",
   "id": "7577cf3d",
   "metadata": {},
   "source": [
    "### Televisión"
   ]
  },
  {
   "cell_type": "code",
   "execution_count": 31,
   "id": "0adfebd1",
   "metadata": {},
   "outputs": [
    {
     "name": "stdout",
     "output_type": "stream",
     "text": [
      "La SER se consolida como la radio más escuchada con 4.161.000 oyentes\n",
      "Series de diciembre de 2022: ‘Alice in Borderland’ en Netflix, ‘Fácil’ en Movistar Plus+ y otros estrenos\n",
      "Lorena Castell, ganadora de ‘MasterChef Celebrity’: “Me gusta trabajar bajo presión, me pone las pilas”\n",
      "Omar Montes y el experimento del gorila\n",
      "‘El presidente: juego de la corrupción’, los entresijos del fútbol\n",
      "‘No me gusta conducir’: en qué se parece hacer una serie a aprender a conducir\n",
      "‘Ummo’, un guirigay intergaláctico\n",
      "Borja Cobeaga: “Tardé más en sacarme el carné que en hacer esta serie”\n",
      "Lorena Castell, ganadora de ‘MasterChef Celebrity 7’\n",
      "Radiografía de ‘El hormiguero’: entretenimiento blanco de éxito… y polémicas por machismo\n",
      "Eliseo, ‘el encargado’ corrupto que seduce y repele en Argentina \n",
      "‘Masterchef Celebrity’ ya tiene a sus dos finalistas, tras la “rendición” de Patricia Conde\n",
      "‘The Peripheral’, realidad, ficción y un futuro ciberpunk con los creadores de ‘Westworld’\n",
      "El ‘bon vivant’ acorralado de la FIFA que grabó a sus amigos\n",
      "Leonor Lavado: “Somos como hablamos: la voz es nuestro ADN psicológico”\n",
      "¿Qué ocurre tras la edad de oro de la televisión? El mismo oro, aunque enterrado bajo una oferta masiva\n",
      "‘La Sagrada Familia’ rescata el mito Pujol y disecciona su caída\n",
      "¿Qué ver hoy en TV? Jueves 1 de diciembre de 2022\n",
      "Las series de agosto de 2022: ‘La casa del dragón’ en HBO Max; ‘Sandman’ en Netflix y otras\n",
      "Nueve capítulos para recordar ‘The Wire’ en su 20º aniversario\n",
      "Harry Palmer: el tercer vértice del mágico triángulo de espías británicos\n",
      "Las series de junio de 2022: ‘The Boys’ en Amazon Prime Video; ‘Peaky Blinders’ en Netflix y otras\n"
     ]
    }
   ],
   "source": [
    "req16 = requests.get(\"https://elpais.com/television/\")\n",
    "# Si el estatus code no es 200 no se puede leer la página\n",
    "if (req.status_code != 200):\n",
    " raise Exception(\"No se puede hacer Web Scraping en\"+ URL)\n",
    "soup16 = BeautifulSoup(req16.text, 'html.parser')\n",
    "\n",
    "tags = soup16.findAll(\"h2\")\n",
    "for h2 in tags:\n",
    "    print(h2.text)\n",
    "    resultados.append(h2.text)"
   ]
  },
  {
   "cell_type": "markdown",
   "id": "bb3501f7",
   "metadata": {},
   "source": [
    "### Eps"
   ]
  },
  {
   "cell_type": "code",
   "execution_count": 32,
   "id": "a76ea943",
   "metadata": {},
   "outputs": [
    {
     "name": "stdout",
     "output_type": "stream",
     "text": [
      "Felix Klieser: un virtuoso de la trompa (sin brazos)\n",
      "Anna Lluch, experta en cáncer de mama: “El sistema público de salud se decide en las urnas”\n",
      "¿A qué sabe un vino de 160 años? Apuntes de una cata histórica en Marqués de Riscal\n",
      "Las abuelas que han viralizado el arte de elaborar la pasta italiana \n",
      "David LaChapelle, en busca de Dios\n",
      "El lugar en el que convergen moda, arte y arquitectura\n",
      "Muchos hombres, una sola mujer\n",
      "El misterio de Manuel Carrasco: cómo salir de una barriada de pescadores y acabar siendo un cantante que llena estadios\n",
      "Ishida, los ‘dioses’ de la cocina japonesa: “Tenemos que dejar de desear tantas cosas, y hay que hacerlo ya”  \n",
      "Los guardianes de la ensaladilla rusa, la tapa popular que subió a los altares ‘gourmet’ \n",
      "Humaredas mediáticas, monotonía, discursos vacíos y otras amenazas y retos de la gastronomía \n",
      "Narcisistas, ansiosos, pasivo-agresivos… Cinco claves para tratar con personas difíciles\n",
      "Al fondo, invisibles, las pirámides\n",
      "El coche que se anticipa al declive de los SUV\n",
      "El milagro alemán\n",
      "Consuelo\n",
      "Sin tiempo\n",
      "La bióloga que se propuso repoblar los bosques de Brasil\n",
      "Un parche para conseguir que las vacunas sean más baratas y accesibles\n",
      "Cerdo pío negro, el inesperado rival del ibérico\n",
      "Ishida, los ‘dioses’ de la cocina japonesa: “Tenemos que dejar de desear tantas cosas, y hay que hacerlo ya”  \n",
      "El secreto del maíz gigante mexicano que bajó del volcán\n",
      "‘Mis primeros recuerdos’, por Daniel Barenboim\n",
      "El indómito espíritu creativo de Picasso\n",
      "Medio siglo sin Picasso\n",
      "Paloma Picasso se confiesa con Nuccio Ordine\n",
      "El amigo de Picasso sin el que no estaría en España el ‘Guernica’\n",
      "Tommy Hilfiger: “Muchos de nuestros clientes van a vivir en el metaverso. De hecho, ya lo hacen”\n",
      "Storm Pablo: el estilista que convirtió a Bad Bunny en icono también de la moda\n",
      "El hombre que cultiva las flores más caras para los perfumes más especiales\n",
      "Una casa junto al lago Como que es pura diversión \n",
      "Desayuno a la mexicana entre hípsters de mañaneo y polis con más apetito que buena fama\n",
      "El misterio Picasso\n",
      "Isabel II: el reinado de la imagen\n",
      "Un día en la vida de un país: San Sebastián-Cádiz en 16 horas\n",
      "Luces y sombras de Robert Mapplethorpe\n"
     ]
    }
   ],
   "source": [
    "req17 = requests.get(\"https://elpais.com/eps/\")\n",
    "# Si el estatus code no es 200 no se puede leer la página\n",
    "if (req.status_code != 200):\n",
    " raise Exception(\"No se puede hacer Web Scraping en\"+ URL)\n",
    "soup17 = BeautifulSoup(req17.text, 'html.parser')\n",
    "\n",
    "tags = soup17.findAll(\"h2\")\n",
    "for h2 in tags:\n",
    "    print(h2.text)\n",
    "    resultados.append(h2.text)"
   ]
  },
  {
   "cell_type": "markdown",
   "id": "cfecdb1b",
   "metadata": {},
   "source": [
    "### Estilo de El País\n",
    "Nada más acabar con el trabajo de impresión, será necesario limpiar los resultados para obtener una visualización optima tras haber realizado el web scrapping. Para ello, se utilizará la siguiente función."
   ]
  },
  {
   "cell_type": "code",
   "execution_count": 33,
   "id": "f6bfba69",
   "metadata": {},
   "outputs": [
    {
     "data": {
      "text/plain": [
       "1"
      ]
     },
     "execution_count": 33,
     "metadata": {},
     "output_type": "execute_result"
    }
   ],
   "source": [
    "os.system(\"clear\")"
   ]
  },
  {
   "cell_type": "markdown",
   "id": "c1dc730e",
   "metadata": {},
   "source": [
    "El uso del siguiente atributo nos ayudará a dar una distinción de color a cada uno de los titulares que contengan la palabra \"Feminismo\". En este caso, pasarán a ser verdes y tendrán estilo de negrita."
   ]
  },
  {
   "cell_type": "code",
   "execution_count": 34,
   "id": "a9e29b63",
   "metadata": {},
   "outputs": [
    {
     "name": "stdout",
     "output_type": "stream",
     "text": [
      "A continuación se muestran los titulares de las páginas principales del diario El País que contienen las siguientes palabras:\n",
      "Feminismo\n"
     ]
    }
   ],
   "source": [
    "print(colored(\"A continuación se muestran los titulares de las páginas principales del diario El País que contienen las siguientes palabras:\", 'blue', attrs=['bold']))\n",
    "print(colored(\"Feminismo\", 'green', attrs=['bold']))"
   ]
  },
  {
   "cell_type": "markdown",
   "id": "7828bbd9",
   "metadata": {},
   "source": [
    "Gracias a la siguiente función, podremos asegurarnos gracias al condicional \"if\" que todos los resultados que concuerden con esa palabra repintan esta acción. Esto se hace a través de la variable \"str_match\"."
   ]
  },
  {
   "cell_type": "code",
   "execution_count": 35,
   "id": "13cc0486",
   "metadata": {},
   "outputs": [
    {
     "name": "stdout",
     "output_type": "stream",
     "text": [
      "\n"
     ]
    }
   ],
   "source": [
    "str_match = [s for s in resultados if \"feminismo\" in s]\n",
    "print(\"\\n\".join(str_match))"
   ]
  },
  {
   "cell_type": "markdown",
   "id": "cfd1c963",
   "metadata": {},
   "source": [
    "Este mismo proceso se repetirá con las siguientes palabras: igualdad, mujeres, mujer, brecha salarial, machismo, violencia, maltrato, homicidio, género, asesinato y sexo. "
   ]
  },
  {
   "cell_type": "code",
   "execution_count": 36,
   "id": "2af8afdc",
   "metadata": {},
   "outputs": [
    {
     "name": "stdout",
     "output_type": "stream",
     "text": [
      "Igualdad\n",
      "La economía solidaria: un nuevo modelo financiero contra la desigualdad y la emergencia climática\n",
      "El caso de Georgia, en EE UU: becar sin importar la renta agranda la desigualdad\n"
     ]
    }
   ],
   "source": [
    "print(colored(\"Igualdad\", 'green', attrs=['bold']))\n",
    "str_match = [s for s in resultados if \"igualdad\" in s]\n",
    "print(\"\\n\".join(str_match))"
   ]
  },
  {
   "cell_type": "code",
   "execution_count": 37,
   "id": "dff0a8f2",
   "metadata": {},
   "outputs": [
    {
     "name": "stdout",
     "output_type": "stream",
     "text": [
      "Mujeres\n",
      "Para acabar con la violencia de género, necesitamos más mujeres en posiciones de poder \n"
     ]
    }
   ],
   "source": [
    "print(colored(\"Mujeres\", 'green', attrs=['bold']))\n",
    "str_match = [s for s in resultados if \"mujeres\" in s]\n",
    "print(\"\\n\".join(str_match))"
   ]
  },
  {
   "cell_type": "code",
   "execution_count": 38,
   "id": "b5349500",
   "metadata": {},
   "outputs": [
    {
     "name": "stdout",
     "output_type": "stream",
     "text": [
      "Mujer\n",
      "Muchos hombres, una sola mujer\n",
      "Para acabar con la violencia de género, necesitamos más mujeres en posiciones de poder \n",
      "Muchos hombres, una sola mujer\n"
     ]
    }
   ],
   "source": [
    "print(colored(\"Mujer\", 'green', attrs=['bold']))\n",
    "str_match = [s for s in resultados if \"mujer\" in s]\n",
    "print(\"\\n\".join(str_match))"
   ]
  },
  {
   "cell_type": "code",
   "execution_count": 39,
   "id": "639e23ca",
   "metadata": {},
   "outputs": [
    {
     "name": "stdout",
     "output_type": "stream",
     "text": [
      "Brecha salarial\n",
      "\n"
     ]
    }
   ],
   "source": [
    "print(colored(\"Brecha salarial\", 'green', attrs=['bold']))\n",
    "str_match = [s for s in resultados if \"brecha salarial\" in s]\n",
    "print(\"\\n\".join(str_match))"
   ]
  },
  {
   "cell_type": "code",
   "execution_count": 40,
   "id": "d0db2305",
   "metadata": {},
   "outputs": [
    {
     "name": "stdout",
     "output_type": "stream",
     "text": [
      "Machismo\n",
      "Radiografía de ‘El hormiguero’: entretenimiento blanco de éxito… y polémicas por machismo\n",
      "Radiografía de ‘El hormiguero’: entretenimiento blanco de éxito… y polémicas por machismo\n"
     ]
    }
   ],
   "source": [
    "print(colored(\"Machismo\", 'green', attrs=['bold']))\n",
    "str_match = [s for s in resultados if \"machismo\" in s]\n",
    "print(\"\\n\".join(str_match))"
   ]
  },
  {
   "cell_type": "code",
   "execution_count": 41,
   "id": "3a08b502",
   "metadata": {},
   "outputs": [
    {
     "name": "stdout",
     "output_type": "stream",
     "text": [
      "Violencia\n",
      "Otra forma de violencia política\n",
      "Para acabar con la violencia de género, necesitamos más mujeres en posiciones de poder \n",
      "Tres reinas, una princesa y dos primeras damas se reúnen en Buckingham contra la violencia de género\n"
     ]
    }
   ],
   "source": [
    "print(colored(\"Violencia\", 'green', attrs=['bold']))\n",
    "str_match = [s for s in resultados if \"violencia\" in s]\n",
    "print(\"\\n\".join(str_match))"
   ]
  },
  {
   "cell_type": "code",
   "execution_count": 42,
   "id": "1f625ba0",
   "metadata": {},
   "outputs": [
    {
     "name": "stdout",
     "output_type": "stream",
     "text": [
      "Maltrato\n",
      "¿Podré matar a una rata que entre en mi casa? Claves de la reforma del Código Penal para castigar más el maltrato animal\n"
     ]
    }
   ],
   "source": [
    "print(colored(\"Maltrato\", 'green', attrs=['bold']))\n",
    "str_match = [s for s in resultados if \"maltrato\" in s]\n",
    "print(\"\\n\".join(str_match))"
   ]
  },
  {
   "cell_type": "code",
   "execution_count": 43,
   "id": "10fc989a",
   "metadata": {},
   "outputs": [
    {
     "name": "stdout",
     "output_type": "stream",
     "text": [
      "Homicidio\n",
      "\n"
     ]
    }
   ],
   "source": [
    "print(colored(\"Homicidio\", 'green', attrs=['bold']))\n",
    "str_match = [s for s in resultados if \"homicidio\" in s]\n",
    "print(\"\\n\".join(str_match))"
   ]
  },
  {
   "cell_type": "code",
   "execution_count": 44,
   "id": "021cfc82",
   "metadata": {},
   "outputs": [
    {
     "name": "stdout",
     "output_type": "stream",
     "text": [
      "Género\n",
      "Ayuso se compromete con Vox a borrar la autodeterminación de género de las leyes en Madrid\n",
      "PSOE y Unidas Podemos aplazan el debate sobre la autodeterminación de género en la ‘ley trans’\n",
      "Por primera vez un juez declara nulo un contrato de alquiler por aplicación de la perspectiva de género\n",
      "Visitas a centros de acogida y muchas horas de estudio: así se forman los jueces en materia de género\n",
      "Para acabar con la violencia de género, necesitamos más mujeres en posiciones de poder \n",
      "PSOE y Unidas Podemos aplazan el debate sobre la autodeterminación de género en la ‘ley trans’\n",
      "Tres reinas, una princesa y dos primeras damas se reúnen en Buckingham contra la violencia de género\n"
     ]
    }
   ],
   "source": [
    "print(colored(\"Género\", 'green', attrs=['bold']))\n",
    "str_match = [s for s in resultados if \"género\" in s]\n",
    "print(\"\\n\".join(str_match))"
   ]
  },
  {
   "cell_type": "code",
   "execution_count": 45,
   "id": "7421053a",
   "metadata": {},
   "outputs": [
    {
     "name": "stdout",
     "output_type": "stream",
     "text": [
      "Asesinato\n",
      "\n"
     ]
    }
   ],
   "source": [
    "print(colored(\"Asesinato\", 'green', attrs=['bold']))\n",
    "str_match = [s for s in resultados if \"asesinato\" in s]\n",
    "print(\"\\n\".join(str_match))"
   ]
  },
  {
   "cell_type": "code",
   "execution_count": 46,
   "id": "401f4634",
   "metadata": {},
   "outputs": [
    {
     "name": "stdout",
     "output_type": "stream",
     "text": [
      "Sexo\n",
      "\n"
     ]
    }
   ],
   "source": [
    "print(colored(\"Sexo\", 'green', attrs=['bold']))\n",
    "str_match = [s for s in resultados if \"sexo\" in s]\n",
    "print(\"\\n\".join(str_match))"
   ]
  }
 ],
 "metadata": {
  "kernelspec": {
   "display_name": "Python 3 (ipykernel)",
   "language": "python",
   "name": "python3"
  },
  "language_info": {
   "codemirror_mode": {
    "name": "ipython",
    "version": 3
   },
   "file_extension": ".py",
   "mimetype": "text/x-python",
   "name": "python",
   "nbconvert_exporter": "python",
   "pygments_lexer": "ipython3",
   "version": "3.9.13"
  }
 },
 "nbformat": 4,
 "nbformat_minor": 5
}
